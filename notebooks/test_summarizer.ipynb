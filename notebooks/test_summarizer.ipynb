{
 "cells": [
  {
   "cell_type": "markdown",
   "id": "dbbc1132",
   "metadata": {},
   "source": [
    "### 🧪 GenAI Summarizer Test Notebook\n",
    "\n",
    "Quick test of the summarizer pipeline on a sample PDF.\n"
   ]
  },
  {
   "cell_type": "code",
   "execution_count": null,
   "id": "084881a9",
   "metadata": {},
   "outputs": [],
   "source": [
    "from app.summarizer import summarize_pdf\n",
    "\n",
    "# Replace with an actual PDF file name if available\n",
    "summary = summarize_pdf(\"sample_notes.pdf\")\n",
    "print(summary)\n"
   ]
  },
  {
   "cell_type": "code",
   "execution_count": null,
   "id": "105761bc",
   "metadata": {},
   "outputs": [],
   "source": [
    "from langchain.document_loaders import PyPDFLoader\n",
    "\n",
    "loader = PyPDFLoader(\"sample_notes.pdf\")\n",
    "docs = loader.load()\n",
    "print(docs[0].page_content[:300])  # Preview the first 300 characters\n"
   ]
  }
 ],
 "metadata": {
  "language_info": {
   "name": "python"
  }
 },
 "nbformat": 4,
 "nbformat_minor": 5
}
